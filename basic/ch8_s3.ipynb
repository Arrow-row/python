{
 "cells": [
  {
   "cell_type": "markdown",
   "id": "8acbf6ad",
   "metadata": {},
   "source": [
    "15.Python继承机制及其使用  \n"
   ]
  },
  {
   "cell_type": "markdown",
   "id": "64854c39",
   "metadata": {},
   "source": [
    "# 15 Python继承机制及其使用\n",
    "\n",
    "### 15.1 子类继承父类语法\n",
    "\n",
    "子类继承父类时，只需在定义子类时，将父类(可以是多个)放在子类之后的圆括号中。\n",
    "\n",
    "如果该类没有显式指定继承自哪个类，则默认继承 object 类（object 类是 Python 中所有类的父类，即要么是直接父类，要么是间接父类）。\n",
    "\n",
    "Python 的继承是多继承机制（和 C++ 一样），即一个子类可以同时拥有多个直接父类。\n",
    "\n",
    "语法格式如下:"
   ]
  },
  {
   "cell_type": "code",
   "execution_count": null,
   "id": "180b5730",
   "metadata": {},
   "outputs": [],
   "source": [
    "class subclass(parentclass1,parentclass2):\n",
    "    #def ..."
   ]
  },
  {
   "cell_type": "code",
   "execution_count": null,
   "id": "bd7077d8",
   "metadata": {},
   "outputs": [],
   "source": [
    "#Form继承自Shape, Form是子类，Shape是父类\n",
    "class Shape:\n",
    "    def draw(self,content):\n",
    "        print('draw',content)\n",
    "\n",
    "class Form(Shape): \n",
    "    def area(self):\n",
    "        print('the area of this shape')"
   ]
  },
  {
   "cell_type": "markdown",
   "id": "c4e65e4c",
   "metadata": {},
   "source": [
    "### 15.2 继承机制用法"
   ]
  },
  {
   "cell_type": "code",
   "execution_count": 15,
   "id": "cdd37b8b",
   "metadata": {},
   "outputs": [
    {
     "name": "stdout",
     "output_type": "stream",
     "text": [
      "I'm a human being, my name is: Alice\n",
      "human beings are advanced animal\n"
     ]
    }
   ],
   "source": [
    "class People:\n",
    "    def say(self):\n",
    "        #self.name=name\n",
    "        print(\"I'm a human being, my name is:\",self.name)\n",
    "\n",
    "class Animal:\n",
    "    def display(self):\n",
    "        print('human beings are advanced animal')\n",
    "\n",
    "class Person(People,Animal): #同时继承People类、Animal类\n",
    "    pass\n",
    "\n",
    "#虽然Person是空类，但也拥有所继承的两个类的方法\n",
    "z=Person()\n",
    "z.name='Alice' #这里必须对name赋值，是什么用法？？\n",
    "z.say()\n",
    "z.display()"
   ]
  },
  {
   "cell_type": "markdown",
   "id": "90328959",
   "metadata": {},
   "source": [
    "子类拥有父类所有的属性和方法，即便该属性/方法是私有的。"
   ]
  },
  {
   "cell_type": "markdown",
   "id": "46ef8d82",
   "metadata": {},
   "source": [
    "### 15.3 python多继承\n",
    "\n",
    "多继承问题：多个父类中包含同名的类方法。\n",
    "\n",
    "对于这种情况，Python 的处置措施是：根据子类继承多个父类时这些父类的前后次序决定，即排在前面父类中的类方法会覆盖排在后面父类中的同名类方法。\n",
    "\n",
    "虽然 Python 在语法上支持多继承，但如非必要，不建议使用多继承。"
   ]
  },
  {
   "cell_type": "code",
   "execution_count": 16,
   "id": "a7b5880d",
   "metadata": {},
   "outputs": [
    {
     "name": "stdout",
     "output_type": "stream",
     "text": [
      "class People Alice\n"
     ]
    }
   ],
   "source": [
    "class People:\n",
    "    def __init__(self):\n",
    "        self.name=People  #属性名直接赋值为写成类名？？\n",
    "    def say(self):\n",
    "        print(\"class People\",self.name)\n",
    "        \n",
    "class Animal:\n",
    "    def __init__(self):\n",
    "        self.name=Animal\n",
    "    def say(self):\n",
    "        print(\"class Animal\",self.name)\n",
    "\n",
    "class Person(People,Animal): ##People中的 name 和 say() 会遮蔽 Animal 类中的\n",
    "    pass\n",
    "\n",
    "z=Person()\n",
    "z.name=\"Alice\"\n",
    "z.say()"
   ]
  }
 ],
 "metadata": {
  "kernelspec": {
   "display_name": "Python 3 (ipykernel)",
   "language": "python",
   "name": "python3"
  },
  "language_info": {
   "codemirror_mode": {
    "name": "ipython",
    "version": 3
   },
   "file_extension": ".py",
   "mimetype": "text/x-python",
   "name": "python",
   "nbconvert_exporter": "python",
   "pygments_lexer": "ipython3",
   "version": "3.9.12"
  }
 },
 "nbformat": 4,
 "nbformat_minor": 5
}
