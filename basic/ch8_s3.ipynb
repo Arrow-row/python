{
 "cells": [
  {
   "cell_type": "markdown",
   "id": "504ca4e2",
   "metadata": {},
   "source": [
    "15.Python继承机制及其使用  \n"
   ]
  },
  {
   "cell_type": "markdown",
   "id": "8fa2aa19",
   "metadata": {},
   "source": [
    "# 15 Python继承机制及其使用\n",
    "\n",
    "### 15.1 子类继承父类语法\n",
    "\n",
    "子类继承父类时，只需在定义子类时，将父类(可以是多个)放在子类之后的圆括号中。\n",
    "\n",
    "如果该类没有显式指定继承自哪个类，则默认继承 object 类（object 类是 Python 中所有类的父类，即要么是直接父类，要么是间接父类）。\n",
    "\n",
    "Python 的继承是多继承机制（和 C++ 一样），即一个子类可以同时拥有多个直接父类。\n",
    "\n",
    "语法格式如下:"
   ]
  },
  {
   "cell_type": "code",
   "execution_count": null,
   "id": "f4c38571",
   "metadata": {},
   "outputs": [],
   "source": [
    "class subclass(parentclass1,parentclass2):\n",
    "    #def ..."
   ]
  },
  {
   "cell_type": "code",
   "execution_count": null,
   "id": "e3820d0c",
   "metadata": {},
   "outputs": [],
   "source": [
    "#Form继承自Shape, Form是子类，Shape是父类\n",
    "class Shape:\n",
    "    def draw(self,content):\n",
    "        print('draw',content)\n",
    "\n",
    "class Form(Shape): \n",
    "    def area(self):\n",
    "        print('the area of this shape')"
   ]
  },
  {
   "cell_type": "markdown",
   "id": "8be07391",
   "metadata": {},
   "source": [
    "### 15.2 继承机制用法"
   ]
  },
  {
   "cell_type": "code",
   "execution_count": 15,
   "id": "96cddee4",
   "metadata": {},
   "outputs": [
    {
     "name": "stdout",
     "output_type": "stream",
     "text": [
      "I'm a human being, my name is: Alice\n",
      "human beings are advanced animal\n"
     ]
    }
   ],
   "source": [
    "class People:\n",
    "    def say(self):\n",
    "        #self.name=name\n",
    "        print(\"I'm a human being, my name is:\",self.name)\n",
    "\n",
    "class Animal:\n",
    "    def display(self):\n",
    "        print('human beings are advanced animal')\n",
    "\n",
    "class Person(People,Animal): #同时继承People类、Animal类\n",
    "    pass\n",
    "\n",
    "#虽然Person是空类，但也拥有所继承的两个类的方法\n",
    "z=Person()\n",
    "z.name='Alice' #这里必须对name赋值，是什么用法？？\n",
    "z.say()\n",
    "z.display()"
   ]
  },
  {
   "cell_type": "markdown",
   "id": "f49d73f4",
   "metadata": {},
   "source": [
    "子类拥有父类所有的属性和方法，即便该属性/方法是私有的。"
   ]
  },
  {
   "cell_type": "markdown",
   "id": "7472e46d",
   "metadata": {},
   "source": [
    "### 15.3 python多继承\n",
    "\n",
    "多继承问题：多个父类中包含同名的类方法。\n",
    "\n",
    "对于这种情况，Python 的处置措施是：根据子类继承多个父类时这些父类的前后次序决定，即排在前面父类中的类方法会覆盖排在后面父类中的同名类方法。\n",
    "\n",
    "虽然 Python 在语法上支持多继承，但如非必要，不建议使用多继承。"
   ]
  },
  {
   "cell_type": "code",
   "execution_count": 16,
   "id": "0f19a744",
   "metadata": {},
   "outputs": [
    {
     "name": "stdout",
     "output_type": "stream",
     "text": [
      "class People Alice\n"
     ]
    }
   ],
   "source": [
    "class People:\n",
    "    def __init__(self):\n",
    "        self.name=People  #属性名直接赋值为写成类名？？\n",
    "    def say(self):\n",
    "        print(\"class People\",self.name)\n",
    "        \n",
    "class Animal:\n",
    "    def __init__(self):\n",
    "        self.name=Animal\n",
    "    def say(self):\n",
    "        print(\"class Animal\",self.name)\n",
    "\n",
    "class Person(People,Animal): ##People中的 name 和 say() 会遮蔽 Animal 类中的\n",
    "    pass\n",
    "\n",
    "z=Person()\n",
    "z.name=\"Alice\"\n",
    "z.say()"
   ]
  },
  {
   "cell_type": "markdown",
   "id": "b2c221e5",
   "metadata": {},
   "source": [
    "# 16 python方法解析顺序\n",
    "\n",
    "方法解析顺序，Method Resolution Order，简称MRO，即调用方法时，对当前类及其基类进行搜索，以确定方法或属性的位置\n",
    "\n"
   ]
  },
  {
   "cell_type": "markdown",
   "id": "9e0e6c7a",
   "metadata": {},
   "source": [
    "# 17 python父类方法重写"
   ]
  },
  {
   "cell_type": "code",
   "execution_count": 2,
   "id": "4acce25e",
   "metadata": {},
   "outputs": [
    {
     "name": "stdout",
     "output_type": "stream",
     "text": [
      "can not fly\n",
      "be able to fly\n"
     ]
    }
   ],
   "source": [
    "class Bird:\n",
    "    def isWing(self):\n",
    "        print(' having wings')\n",
    "        \n",
    "    def fly(self):\n",
    "        print('be able to fly')\n",
    "\n",
    "class Ostrich(Bird):\n",
    "    #重写Bird类的fly()\n",
    "    def fly(self):\n",
    "        print('can not fly')\n",
    "        \n",
    "ostrich=Ostrich()\n",
    "\n",
    "# 1. 子类调用重写的父类方法\n",
    "ostrich.fly() \n",
    "\n",
    "# 2. 调用父类的被重写的方法(方法被重写后，子类总是会执行重写的新方法)\n",
    "#使用类名调用类方法，需要手动为self参数赋值\n",
    "Bird.fly(ostrich) "
   ]
  },
  {
   "cell_type": "markdown",
   "id": "de51791b",
   "metadata": {},
   "source": [
    "## 18 内置类型子类化\n",
    "\n",
    "1.内置类型子类化 \n",
    "即自定义一个新类，使其继承有类似行为的内置类，通过重定义这个新类实现指定的功能"
   ]
  },
  {
   "cell_type": "code",
   "execution_count": 3,
   "id": "f0f72b6a",
   "metadata": {},
   "outputs": [
    {
     "ename": "IndentationError",
     "evalue": "expected an indented block (3778491888.py, line 3)",
     "output_type": "error",
     "traceback": [
      "\u001b[0;36m  Input \u001b[0;32mIn [3]\u001b[0;36m\u001b[0m\n\u001b[0;31m    class newDict(dict):\u001b[0m\n\u001b[0m    ^\u001b[0m\n\u001b[0;31mIndentationError\u001b[0m\u001b[0;31m:\u001b[0m expected an indented block\n"
     ]
    }
   ],
   "source": [
    "class newDictError(ValueError):\n",
    "    '''若向newDict添加重复值，则引发此异常'''\n",
    "    \n",
    "class newDict(dict):\n",
    "    '''不接受重复值的字典\n",
    "        newDict 是 Python 中 dict 类型的子类，所以其大部分行为都和 dict 内置类相同，唯一不同之处在于，newDict 不允许字典中多个键对应相同的值\n",
    "    '''\n",
    "    def __setitem__(self,key,value):\n",
    "        if value in self.value():\n",
    "            if ((key in self and self[key]!=value) or (key not in self)):\n",
    "                raise newDictError('this value has been existed')\n",
    "        super().__setitem__(key,value)\n",
    "        \n",
    "demoDict=newDict()\n",
    "demoDict['key']='value'\n",
    "demoDict['other_key']='value2'\n",
    "print(demoDict)\n",
    "demoDict['other_key']='value'\n",
    "print(demoDict)"
   ]
  },
  {
   "cell_type": "code",
   "execution_count": 4,
   "id": "96bae8da",
   "metadata": {},
   "outputs": [
    {
     "name": "stdout",
     "output_type": "stream",
     "text": [
      "website/\n",
      " http://web\n",
      "None\n"
     ]
    }
   ],
   "source": [
    "#list类型子类化\n",
    "class myList(list):\n",
    "    def __init__(self,name):\n",
    "        self.name=name\n",
    "        \n",
    "    def dir(self,nesting=0):\n",
    "        offset=\" \"*nesting\n",
    "        print(\"%s%s/\" % (offset,self.name))\n",
    "        \n",
    "        for element in self:\n",
    "            if hasattr(element,'dir'):\n",
    "                element.dir(nesting+1)\n",
    "            else:\n",
    "                print(\"%s %s\" % (offset,element))\n",
    "                \n",
    "demoList=myList('website')\n",
    "demoList.append('http://web')\n",
    "print(demoList.dir())\n"
   ]
  },
  {
   "cell_type": "markdown",
   "id": "4e2052a6",
   "metadata": {},
   "source": [
    "## 19 super()调用父类构造方法"
   ]
  },
  {
   "cell_type": "code",
   "execution_count": 8,
   "id": "907b3928",
   "metadata": {},
   "outputs": [
    {
     "name": "stdout",
     "output_type": "stream",
     "text": [
      "my name is: Alice\n"
     ]
    }
   ],
   "source": [
    "class People:\n",
    "    def __init__(self,name):\n",
    "        self.name=name\n",
    "    def say(self):\n",
    "        print('my name is:',self.name)\n",
    "\n",
    "class Animal:\n",
    "    def __init__(self,food):\n",
    "        self.food=food\n",
    "    def display(self):\n",
    "        print('animal eating',self.foodd)\n",
    "        \n",
    "class Person(People,Animal):#People中的构造函数会遮蔽Animal中的\n",
    "    pass\n",
    "\n",
    "per=Person(\"Alice\")\n",
    "per.say()\n",
    "#per.display() #报错，Animal的构造函数被遮蔽"
   ]
  },
  {
   "cell_type": "markdown",
   "id": "2915aa73",
   "metadata": {},
   "source": [
    "在子类中定义构造方法，必须在该方法中调用父类的构造方法。子类中调用父类构造方法的方式有2种：  \n",
    "1）额外备注类名（此方式又称为未绑定方法）  \n",
    "2）使用 super() 函数。但涉及多继承时，该函数只能调用第一个直接父类的构造方法  \n",
    "\n",
    "涉及多继承时，子类构造函数中，调用第一个父类构造方法的方式有以上两种，而调用其他父类构造方法的方式只能使用第一种  \n",
    "\n",
    "python3中super()调用格式: super().__init__(self,...)"
   ]
  },
  {
   "cell_type": "code",
   "execution_count": 9,
   "id": "03e3f675",
   "metadata": {},
   "outputs": [
    {
     "name": "stdout",
     "output_type": "stream",
     "text": [
      "my name is: Alice\n",
      "animal eating  Steve\n"
     ]
    }
   ],
   "source": [
    "class People:\n",
    "    def __init__(self,name):\n",
    "        self.name=name\n",
    "    def say(self):\n",
    "        print('my name is:',self.name)\n",
    "\n",
    "class Animal:\n",
    "    def __init__(self,food):\n",
    "        self.food=food\n",
    "    def display(self):\n",
    "        print('animal eating ',self.food)\n",
    "\n",
    "class Person(People,Animal):\n",
    "    def __init__(self,name,food):\n",
    "        super().__init__(name)\n",
    "        Animal.__init__(self,food) #调用其他父类(非第一个父类)的构造方法，只能使用未绑定方法，此时需要手动给self传值\n",
    "\n",
    "per=Person('Alice','Steve')\n",
    "per.say()\n",
    "per.display()"
   ]
  },
  {
   "cell_type": "markdown",
   "id": "a368a361",
   "metadata": {},
   "source": [
    "## 20 super()使用注意事项\n",
    "\n",
    "http://c.biancheng.net/view/vip_6071.html"
   ]
  }
 ],
 "metadata": {
  "kernelspec": {
   "display_name": "Python 3 (ipykernel)",
   "language": "python",
   "name": "python3"
  },
  "language_info": {
   "codemirror_mode": {
    "name": "ipython",
    "version": 3
   },
   "file_extension": ".py",
   "mimetype": "text/x-python",
   "name": "python",
   "nbconvert_exporter": "python",
   "pygments_lexer": "ipython3",
   "version": "3.9.12"
  }
 },
 "nbformat": 4,
 "nbformat_minor": 5
}
