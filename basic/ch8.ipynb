{
 "cells": [
  {
   "cell_type": "markdown",
   "id": "ebf307a6",
   "metadata": {},
   "source": [
    "# 1. 一切皆对象"
   ]
  },
  {
   "cell_type": "markdown",
   "id": "8a82076b",
   "metadata": {},
   "source": [
    "python中一切皆对象，所有变量都是对象"
   ]
  },
  {
   "cell_type": "code",
   "execution_count": null,
   "id": "3c9a7e69",
   "metadata": {},
   "outputs": [],
   "source": [
    "class tortoise:\n",
    "    '''这是一个学习Python定义的第一个类'''\n",
    "    bodyColor='green'\n",
    "    footNum=4\n",
    "    weight=10\n",
    "    hasShell=True\n",
    "    \n",
    "    def crawl(self):\n",
    "        print('crawl')\n",
    "    \n",
    "    def eat(self):\n",
    "        print('eat')\n",
    "    \n",
    "    def sleep(self):\n",
    "        print('sleep')\n",
    "    \n",
    "    def protect(self):\n",
    "        print('protect')\n",
    "        "
   ]
  },
  {
   "cell_type": "markdown",
   "id": "dd641aa4",
   "metadata": {},
   "source": [
    "# 2. class：定义类\n",
    "\n",
    "实例方法、静态方法和类方法?"
   ]
  },
  {
   "cell_type": "code",
   "execution_count": null,
   "id": "65cf76fd",
   "metadata": {},
   "outputs": [],
   "source": [
    "class TheFirstDemo:\n",
    "    #类说明文档，要放到类头之后，类体之前的位置\n",
    "    \"\"\"This is the first python class\"\"\"\n",
    "    add = 'http://c.biancheng.net'\n",
    "    def say(self,content):\n",
    "        print(content)"
   ]
  },
  {
   "cell_type": "code",
   "execution_count": null,
   "id": "f6864653",
   "metadata": {},
   "outputs": [],
   "source": [
    "#允许创建空类\n",
    "class Empty:\n",
    "    pass"
   ]
  },
  {
   "cell_type": "markdown",
   "id": "9e8264b0",
   "metadata": {},
   "source": [
    "# 3. __init__()类构造方法"
   ]
  },
  {
   "cell_type": "markdown",
   "id": "51d7bb8e",
   "metadata": {},
   "source": [
    "1.__init__()为构造方法，可以包含多个参数，但必须包含一个名为 self 的参数，且必须作为第一个参数\n",
    "2.不手动为类添加任何构造方法，Python 也会自动为类添加一个仅包含 self 参数的默认构造方法"
   ]
  },
  {
   "cell_type": "code",
   "execution_count": 1,
   "id": "6ce9c946",
   "metadata": {},
   "outputs": [
    {
     "name": "stdout",
     "output_type": "stream",
     "text": [
      "constructor caller\n"
     ]
    }
   ],
   "source": [
    "class TheFirstDemo:\n",
    "    def __init__(self):\n",
    "        print('constructor caller')\n",
    "\n",
    "ch=TheFirstDemo() #创建名为ch的TheFirstDemo类对象\n"
   ]
  },
  {
   "cell_type": "code",
   "execution_count": 2,
   "id": "b7f2934d",
   "metadata": {
    "scrolled": true
   },
   "outputs": [
    {
     "name": "stdout",
     "output_type": "stream",
     "text": [
      "CLanguage website: http://c.biancheng.net\n"
     ]
    }
   ],
   "source": [
    "class CLagnuage:\n",
    "    def __init__(self,name,add):\n",
    "        print(name,'website:',add)\n",
    "#创建add对象，传递参数给构造函数。无需给self传参\n",
    "add=CLagnuage('CLanguage','http://c.biancheng.net')"
   ]
  },
  {
   "cell_type": "markdown",
   "id": "a669baad",
   "metadata": {},
   "source": [
    "# 4. 类对象创建和使用"
   ]
  },
  {
   "cell_type": "markdown",
   "id": "052f1454",
   "metadata": {},
   "source": [
    "### 实例化后的类对象可以执行以下操作：\n",
    "\n",
    "1.访问或修改类对象具有的实例变量\n",
    "2.添加新的实例变量或者删除已有的实例变量\n",
    "3.动态添加方法\n",
    "3.调用类对象的方法，包括调用现有的方法，以及给类对象动态添加方法"
   ]
  },
  {
   "cell_type": "markdown",
   "id": "41b3aa93",
   "metadata": {},
   "source": [
    "##### 访问或修改类对象具有的实例变量"
   ]
  },
  {
   "cell_type": "code",
   "execution_count": 8,
   "id": "6a512651",
   "metadata": {},
   "outputs": [
    {
     "name": "stdout",
     "output_type": "stream",
     "text": [
      "clanguage website 2222 http://c.biancheng.net\n",
      "clanguage 2222 http://c.biancheng.net\n",
      "4444\n",
      "python course 3333 http://c.biancheng.net\n"
     ]
    }
   ],
   "source": [
    "class CLanguage:\n",
    "    #2个类变量\n",
    "    name='CLanguage website'\n",
    "    add='1111 http://c.biancheng.net'\n",
    "    \n",
    "    #构造函数\n",
    "    def __init__(self,name,add):\n",
    "        #2个实例变量\n",
    "        self.name=name\n",
    "        self.add=add\n",
    "        print(name,'website',add)\n",
    "    \n",
    "    #实例方法\n",
    "    def say(self,content):\n",
    "        print(content)\n",
    "\n",
    "clanguage=CLanguage('clanguage','2222 http://c.biancheng.net')\n",
    "print(clanguage.name,clanguage.add)\n",
    "clanguage.say('4444')\n",
    "\n",
    "clanguage.name='python course' #修改实例变量值\n",
    "clanguage.add='3333 http://c.biancheng.net'\n",
    "print(clanguage.name,clanguage.add)"
   ]
  },
  {
   "cell_type": "markdown",
   "id": "4261479c",
   "metadata": {},
   "source": [
    "##### 动态添加/删除实例变量"
   ]
  },
  {
   "cell_type": "code",
   "execution_count": 9,
   "id": "4bde9180",
   "metadata": {},
   "outputs": [
    {
     "name": "stdout",
     "output_type": "stream",
     "text": [
      "159.9\n"
     ]
    }
   ],
   "source": [
    "clanguage.money=159.9 #给类对象动态添加实例变量\n",
    "print(clanguage.money)"
   ]
  },
  {
   "cell_type": "code",
   "execution_count": 10,
   "id": "30d7ab59",
   "metadata": {},
   "outputs": [
    {
     "ename": "NameError",
     "evalue": "name 'money' is not defined",
     "output_type": "error",
     "traceback": [
      "\u001b[0;31m---------------------------------------------------------------------------\u001b[0m",
      "\u001b[0;31mNameError\u001b[0m                                 Traceback (most recent call last)",
      "Input \u001b[0;32mIn [10]\u001b[0m, in \u001b[0;36m<cell line: 2>\u001b[0;34m()\u001b[0m\n\u001b[1;32m      1\u001b[0m \u001b[38;5;28;01mdel\u001b[39;00m clanguage\u001b[38;5;241m.\u001b[39mmoney \u001b[38;5;66;03m#删除新添加的money实例变量\u001b[39;00m\n\u001b[0;32m----> 2\u001b[0m \u001b[38;5;28mprint\u001b[39m(clanguage,\u001b[43mmoney\u001b[49m)\n",
      "\u001b[0;31mNameError\u001b[0m: name 'money' is not defined"
     ]
    }
   ],
   "source": [
    "del clanguage.money #删除新添加的money实例变量\n",
    "print(clanguage,money) #此时会报错"
   ]
  },
  {
   "cell_type": "markdown",
   "id": "76df8df7",
   "metadata": {},
   "source": [
    "##### 给类对象动态添加方法\n",
    "\n",
    "1.对于动态增加的方法，Python 不会自动将方法调用者绑定到它们的第一个参数，因此程序必须手动为第一个参数传入参数值"
   ]
  },
  {
   "cell_type": "code",
   "execution_count": 18,
   "id": "9337eb17",
   "metadata": {},
   "outputs": [],
   "source": [
    "def info(self):\n",
    "    print('----info()----',self)\n",
    "\n",
    "clanguage.foo=info #动态增加方法。使用info()对clanguage的foo方法赋值---动态绑定方法\n",
    "clanguage.foo=(clanguage) #手动为第一个参数传入参数值，将调用者绑定为第一个参数\n",
    "\n",
    "clanguage.bar=lambda self: print('----lambda expre----',self) #动态增加方法。使用lambda表达式为clanguage对象的bar方法赋值---动态绑定方法\n",
    "clanguage.bar=(clanguage) #手动为第一个参数传入参数值，将调用者绑定为第一个参数"
   ]
  },
  {
   "cell_type": "markdown",
   "id": "eff94853",
   "metadata": {},
   "source": [
    "2.也可借助types模块下的MethodType实现self绑定"
   ]
  },
  {
   "cell_type": "code",
   "execution_count": 19,
   "id": "fca75d21",
   "metadata": {},
   "outputs": [
    {
     "name": "stdout",
     "output_type": "stream",
     "text": [
      "website of clang: 666666\n"
     ]
    }
   ],
   "source": [
    "def info(self,content):\n",
    "    print('website of clang: %s' % content)\n",
    "    \n",
    "from types import MethodType\n",
    "clanguage.info=MethodType(info,clanguage)\n",
    "clanguage.info('666666') #第一个参数已绑定，无需传入"
   ]
  },
  {
   "cell_type": "markdown",
   "id": "4348bf87",
   "metadata": {},
   "source": []
  },
  {
   "cell_type": "markdown",
   "id": "02c9293c",
   "metadata": {},
   "source": [
    "# 5. Python self用法详解"
   ]
  },
  {
   "cell_type": "markdown",
   "id": "88bb9bb9",
   "metadata": {},
   "source": [
    "### 方法第一个参数须为self\n",
    "\n",
    "1.在定义类的过程中，无论是显式创建类的构造方法，还是向类中添加实例方法，都要求将 self 参数作为方法的第一个参数。\n",
    "\n",
    "2.事实上，Python 只是规定，无论是构造方法还是实例方法，最少要包含一个参数，并没有规定该参数的具体名称。之所以将其命名为 self，只是程序员之间约定俗成的一种习惯，遵守这个约定，可以使我们编写的代码具有更好的可读性"
   ]
  },
  {
   "cell_type": "code",
   "execution_count": 12,
   "id": "ea38e216",
   "metadata": {},
   "outputs": [
    {
     "name": "stdout",
     "output_type": "stream",
     "text": [
      "calling constructor\n",
      "<__main__.Person object at 0x7f233a4fd1f0> study python\n",
      "calling constructor\n",
      "<__main__.Person object at 0x7f233a28ef70> study python\n"
     ]
    }
   ],
   "source": [
    "class Person:\n",
    "    def __init__(self): #构造函数中的 self 参数，代表的是当前正在初始化的类对象\n",
    "        print('calling constructor')\n",
    "    \n",
    "    #实例方法\n",
    "    def study(self): \n",
    "        print(self,'study python')\n",
    "\n",
    "A=Person()\n",
    "A.study()\n",
    "B=Person()\n",
    "B.study()"
   ]
  },
  {
   "cell_type": "markdown",
   "id": "bc131344",
   "metadata": {},
   "source": [
    "### 方法调用\n",
    "\n",
    "1.程序在调用实例方法和构造方法时，不需要手动为第一个参数传值"
   ]
  },
  {
   "cell_type": "code",
   "execution_count": 14,
   "id": "1f91cf45",
   "metadata": {},
   "outputs": [
    {
     "name": "stdout",
     "output_type": "stream",
     "text": [
      "C name\n",
      "D name\n"
     ]
    }
   ],
   "source": [
    "class Person:\n",
    "    name='xx'\n",
    "    def __init__(self,name): #study() 中的 self 代表该方法的调用者，谁调用该方法，那么 self 就代表谁\n",
    "        self.name=name\n",
    "\n",
    "C=Person('C name') #C 初始化时调用的构造函数中的self代表的是C\n",
    "print(C.name)\n",
    "D=Person('D name')\n",
    "print(D.name)"
   ]
  },
  {
   "cell_type": "markdown",
   "id": "fa2071f4",
   "metadata": {},
   "source": [
    "### 函数调用的两种方式\n",
    "\n",
    "1.无论采用哪种方法，self 所表示的都是实际调用该方法的对象\n",
    "2.无论是类中的构造函数还是普通的类方法，实际调用它们的谁，则第一个参数 self 就代表谁\n"
   ]
  },
  {
   "cell_type": "code",
   "execution_count": 16,
   "id": "22255c4e",
   "metadata": {},
   "outputs": [
    {
     "name": "stdout",
     "output_type": "stream",
     "text": [
      "<__main__.Person object at 0x7f2350480400>\n",
      "<__main__.Person object at 0x7f2350480400>\n"
     ]
    }
   ],
   "source": [
    "#函数调用的两种方式\n",
    "#无论采用哪种方法，self 所表示的都是实际调用该方法的对象\n",
    "#无论是类中的构造函数还是普通的类方法，实际调用它们的谁，则第一个参数 self 就代表谁\n",
    "\n",
    "class Person:\n",
    "    def who(self):\n",
    "        print(self)\n",
    "zs=Person()\n",
    "\n",
    "zs.who() #方式1\n",
    "\n",
    "who=zs.who\n",
    "who() #方式2  通过 who 变量调用zhangsan对象中的 who() 方法 -----??"
   ]
  },
  {
   "cell_type": "code",
   "execution_count": null,
   "id": "b81b11db",
   "metadata": {},
   "outputs": [],
   "source": []
  }
 ],
 "metadata": {
  "kernelspec": {
   "display_name": "Python 3 (ipykernel)",
   "language": "python",
   "name": "python3"
  },
  "language_info": {
   "codemirror_mode": {
    "name": "ipython",
    "version": 3
   },
   "file_extension": ".py",
   "mimetype": "text/x-python",
   "name": "python",
   "nbconvert_exporter": "python",
   "pygments_lexer": "ipython3",
   "version": "3.9.12"
  }
 },
 "nbformat": 4,
 "nbformat_minor": 5
}
