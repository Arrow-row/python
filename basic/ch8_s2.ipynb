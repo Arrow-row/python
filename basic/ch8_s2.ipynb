{
 "cells": [
  {
   "cell_type": "markdown",
   "id": "83c64afb",
   "metadata": {},
   "source": [
    "# 9. Python类命名空间\n",
    "\n",
    "Python 类体中的代码位于独立的命名空间（称为类命名空间）中。换句话说，所有用 class 关键字修饰的代码块，都可以看做是位于独立的命名空间中\n",
    "\n",
    "和类命名空间相对的是全局命名空间，即整个 Python 程序默认都位于全局命名空间中。而类体则独立位于类命名空间中\n",
    "\n",
    "相比位于全局命名空间的变量和函数，位于类命名空间中的变量和函数在使用时，只需要标注 CLanguage 前缀即可\n",
    "\n",
    "需要注意的一点是，当使用类对象调用类方法时，在传参方面和外部函数有区别：Python 会自动会第一个参数绑定方法的调用者。位于全局空间中的函数，须显式为第一个参数传递参数"
   ]
  },
  {
   "cell_type": "code",
   "execution_count": 1,
   "id": "19051ea9",
   "metadata": {
    "scrolled": true
   },
   "outputs": [
    {
     "name": "stdout",
     "output_type": "stream",
     "text": [
      "Alice\n",
      "python online\n",
      "Jinna\n",
      "python individual namespace\n"
     ]
    }
   ],
   "source": [
    "name=\"Alice\"\n",
    "\n",
    "def say():\n",
    "    print(\"python online\")\n",
    "    \n",
    "class Clang:\n",
    "    def say():  #不规范的类方法\n",
    "        print(\"python individual namespace\")\n",
    "        \n",
    "    name=\"Jinna\"\n",
    "    \n",
    "print(name)\n",
    "say()\n",
    "\n",
    "print(Clang.name)\n",
    "Clang.say()"
   ]
  },
  {
   "cell_type": "markdown",
   "id": "150b031b",
   "metadata": {},
   "source": [
    "# 10. python描述符\n",
    "\n",
    "描述符是一个类，它定义了另一个类中属性的访问方式。即，一个类可以将属性管理全权委托给描述符类。\n",
    "\n",
    "描述符是 Python 中复杂属性访问的基础，它在内部被用于实现 property、方法、类方法、静态方法和 super 类型。\n",
    "\n",
    "描述符类基于以下 3 个特殊方法（描述符协议）：\n",
    "__set__(self, obj, type=None)：在设置属性时将调用这一方法（本节后续用 setter 表示）；\n",
    "__get__(self, obj, value)：在读取属性时将调用这一方法（本节后续用 getter 表示）；\n",
    "__delete__(self, obj)：对属性调用 del 时将调用这一方法。\n",
    "其中，实现了 setter 和 getter 方法的描述符类被称为数据描述符；反之，如果只实现了 getter 方法，则称为非数据描述符。"
   ]
  },
  {
   "cell_type": "markdown",
   "id": "af0351d5",
   "metadata": {},
   "source": [
    "实际上，在每次查找属性时，描述符协议中的方法都由类对象的特殊方法 __getattribute__() 调用（注意不要和 __getattr__() 弄混）。也就是说，每次使用类对象.属性（或者 getattr(类对象，属性值)）的调用方式时，都会隐式地调用 __getattribute__()，它会按照下列顺序查找该属性：\n",
    "验证该属性是否为类实例对象的数据描述符；\n",
    "如果不是，就查看该属性是否能在类实例对象的 __dict__ 中找到；\n",
    "最后，查看该属性是否为类实例对象的非数据描述符。"
   ]
  },
  {
   "cell_type": "markdown",
   "id": "9034e4cb",
   "metadata": {},
   "source": [
    "如果一个类的某个属性有数据描述符，那么每次查找这个属性时，都会调用描述符的 __get__() 方法，并返回它的值；同样，每次在对该属性赋值时，也会调用 __set__() 方法；__del__()方法也一样。"
   ]
  },
  {
   "cell_type": "code",
   "execution_count": 7,
   "id": "7b6a203b",
   "metadata": {},
   "outputs": [
    {
     "name": "stdout",
     "output_type": "stream",
     "text": [
      "Retriving var x\n",
      "10\n",
      "Updating var x\n",
      "Retriving var x\n",
      "20\n",
      "5\n"
     ]
    }
   ],
   "source": [
    "#描述符类\n",
    "class revealAccess:\n",
    "    def __init__(self,initval=None,name='var'):\n",
    "        self.val=initval\n",
    "        self.name=name\n",
    "        \n",
    "    def __get__(self,obj,objtype):\n",
    "        print(\"Retriving\",self.name)\n",
    "        return self.val\n",
    "    \n",
    "    def __set__(self,obj,val):\n",
    "        print(\"Updating\",self.name)\n",
    "        self.val=val\n",
    "        \n",
    "class myClass:\n",
    "    x=revealAccess(10,'var x')\n",
    "    y=5\n",
    "    \n",
    "m=myClass()\n",
    "print(m.x) #这里，外部的print会打印return self.val返回的val\n",
    "m.x=20     #这里Updating\n",
    "print(m.x) #Updating完还会Retriving\n",
    "print(m.y)\n",
    "        "
   ]
  },
  {
   "cell_type": "code",
   "execution_count": 6,
   "id": "fc27355b",
   "metadata": {},
   "outputs": [
    {
     "name": "stdout",
     "output_type": "stream",
     "text": [
      "9\n"
     ]
    }
   ],
   "source": [
    "def say():\n",
    "    return 9\n",
    "print(say())"
   ]
  },
  {
   "cell_type": "markdown",
   "id": "e9279e62",
   "metadata": {},
   "source": [
    "除了使用描述符类自定义类属性被调用时做的操作外，还可以使用 property() 函数或者 @property 装饰器"
   ]
  },
  {
   "cell_type": "markdown",
   "id": "7cdbd8e7",
   "metadata": {},
   "source": [
    "# 11. property()函数：定义属性"
   ]
  },
  {
   "cell_type": "code",
   "execution_count": null,
   "id": "7b80d5b5",
   "metadata": {},
   "outputs": [],
   "source": [
    "http://c.biancheng.net/view/2286.html"
   ]
  }
 ],
 "metadata": {
  "kernelspec": {
   "display_name": "Python 3 (ipykernel)",
   "language": "python",
   "name": "python3"
  },
  "language_info": {
   "codemirror_mode": {
    "name": "ipython",
    "version": 3
   },
   "file_extension": ".py",
   "mimetype": "text/x-python",
   "name": "python",
   "nbconvert_exporter": "python",
   "pygments_lexer": "ipython3",
   "version": "3.9.12"
  }
 },
 "nbformat": 4,
 "nbformat_minor": 5
}
