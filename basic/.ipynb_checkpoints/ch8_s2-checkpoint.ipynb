{
 "cells": [
  {
   "cell_type": "markdown",
   "id": "83c64afb",
   "metadata": {},
   "source": [
    "# 9. Python类命名空间\n",
    "\n",
    "Python 类体中的代码位于独立的命名空间（称为类命名空间）中。换句话说，所有用 class 关键字修饰的代码块，都可以看做是位于独立的命名空间中\n",
    "\n",
    "和类命名空间相对的是全局命名空间，即整个 Python 程序默认都位于全局命名空间中。而类体则独立位于类命名空间中\n",
    "\n",
    "相比位于全局命名空间的变量和函数，位于类命名空间中的变量和函数在使用时，只需要标注 CLanguage 前缀即可\n",
    "\n",
    "需要注意的一点是，当使用类对象调用类方法时，在传参方面和外部函数有区别：Python 会自动会第一个参数绑定方法的调用者。位于全局空间中的函数，须显式为第一个参数传递参数"
   ]
  },
  {
   "cell_type": "code",
   "execution_count": 1,
   "id": "19051ea9",
   "metadata": {
    "scrolled": true
   },
   "outputs": [
    {
     "name": "stdout",
     "output_type": "stream",
     "text": [
      "Alice\n",
      "python online\n",
      "Jinna\n",
      "python individual namespace\n"
     ]
    }
   ],
   "source": [
    "name=\"Alice\"\n",
    "\n",
    "def say():\n",
    "    print(\"python online\")\n",
    "    \n",
    "class Clang:\n",
    "    def say():  #不规范的类方法\n",
    "        print(\"python individual namespace\")\n",
    "        \n",
    "    name=\"Jinna\"\n",
    "    \n",
    "print(name)\n",
    "say()\n",
    "\n",
    "print(Clang.name)\n",
    "Clang.say()"
   ]
  },
  {
   "cell_type": "markdown",
   "id": "150b031b",
   "metadata": {},
   "source": [
    "# 10. python描述符\n",
    "\n",
    "描述符是一个类，它定义了另一个类中属性的访问方式。即，一个类可以将属性管理全权委托给描述符类。\n",
    "\n",
    "描述符是 Python 中复杂属性访问的基础，它在内部被用于实现 property、方法、类方法、静态方法和 super 类型。\n",
    "\n",
    "描述符类基于以下 3 个特殊方法（描述符协议）：\n",
    "__set__(self, obj, type=None)：在设置属性时将调用这一方法（本节后续用 setter 表示）；\n",
    "__get__(self, obj, value)：在读取属性时将调用这一方法（本节后续用 getter 表示）；\n",
    "__delete__(self, obj)：对属性调用 del 时将调用这一方法。\n",
    "其中，实现了 setter 和 getter 方法的描述符类被称为数据描述符；反之，如果只实现了 getter 方法，则称为非数据描述符。"
   ]
  },
  {
   "cell_type": "markdown",
   "id": "af0351d5",
   "metadata": {},
   "source": [
    "实际上，在每次查找属性时，描述符协议中的方法都由类对象的特殊方法 __getattribute__() 调用（注意不要和 __getattr__() 弄混）。也就是说，每次使用类对象.属性（或者 getattr(类对象，属性值)）的调用方式时，都会隐式地调用 __getattribute__()，它会按照下列顺序查找该属性：\n",
    "验证该属性是否为类实例对象的数据描述符；\n",
    "如果不是，就查看该属性是否能在类实例对象的 __dict__ 中找到；\n",
    "最后，查看该属性是否为类实例对象的非数据描述符。"
   ]
  },
  {
   "cell_type": "markdown",
   "id": "9034e4cb",
   "metadata": {},
   "source": [
    "如果一个类的某个属性有数据描述符，那么每次查找这个属性时，都会调用描述符的 __get__() 方法，并返回它的值；同样，每次在对该属性赋值时，也会调用 __set__() 方法；__del__()方法也一样。"
   ]
  },
  {
   "cell_type": "code",
   "execution_count": 7,
   "id": "7b6a203b",
   "metadata": {},
   "outputs": [
    {
     "name": "stdout",
     "output_type": "stream",
     "text": [
      "Retriving var x\n",
      "10\n",
      "Updating var x\n",
      "Retriving var x\n",
      "20\n",
      "5\n"
     ]
    }
   ],
   "source": [
    "#描述符类\n",
    "class revealAccess:\n",
    "    def __init__(self,initval=None,name='var'):\n",
    "        self.val=initval\n",
    "        self.name=name\n",
    "        \n",
    "    def __get__(self,obj,objtype):\n",
    "        print(\"Retriving\",self.name)\n",
    "        return self.val\n",
    "    \n",
    "    def __set__(self,obj,val):\n",
    "        print(\"Updating\",self.name)\n",
    "        self.val=val\n",
    "        \n",
    "class myClass:\n",
    "    x=revealAccess(10,'var x')\n",
    "    y=5\n",
    "    \n",
    "m=myClass()\n",
    "print(m.x) #这里，外部的print会打印return self.val返回的val\n",
    "m.x=20     #这里Updating\n",
    "print(m.x) #Updating完还会Retriving\n",
    "print(m.y)\n",
    "        "
   ]
  },
  {
   "cell_type": "code",
   "execution_count": 6,
   "id": "fc27355b",
   "metadata": {},
   "outputs": [
    {
     "name": "stdout",
     "output_type": "stream",
     "text": [
      "9\n"
     ]
    }
   ],
   "source": [
    "def say():\n",
    "    return 9\n",
    "print(say())"
   ]
  },
  {
   "cell_type": "markdown",
   "id": "e9279e62",
   "metadata": {},
   "source": [
    "除了使用描述符类自定义类属性被调用时做的操作外，还可以使用 property() 函数或者 @property 装饰器"
   ]
  },
  {
   "cell_type": "markdown",
   "id": "7cdbd8e7",
   "metadata": {},
   "source": [
    "# 11. property()函数：定义属性"
   ]
  },
  {
   "cell_type": "markdown",
   "id": "276a7874",
   "metadata": {},
   "source": [
    "## 1.setter/getter方法\n",
    "\n",
    "类中应包含读或写类属性的多个getter/setter方法，使得可以通过 类对象.方法(参数) 形式操作属性\n"
   ]
  },
  {
   "cell_type": "code",
   "execution_count": 1,
   "id": "13211494",
   "metadata": {},
   "outputs": [
    {
     "name": "stdout",
     "output_type": "stream",
     "text": [
      "Alice\n",
      "python\n",
      "xxx\n"
     ]
    }
   ],
   "source": [
    "class Clang:\n",
    "    def __init__(self,name):\n",
    "        self.name=name\n",
    "    def setname(self,name):\n",
    "        self.name=name\n",
    "    def getname(self):\n",
    "        return self.name\n",
    "    def delname(self):\n",
    "        self.name='xxx'\n",
    "        \n",
    "clang=Clang('Alice')\n",
    "print(clang.getname())\n",
    "clang.setname('python')\n",
    "print(clang.getname())\n",
    "clang.delname()\n",
    "print(clang.getname())"
   ]
  },
  {
   "cell_type": "markdown",
   "id": "f99054cc",
   "metadata": {},
   "source": [
    "## 2.property()函数\n",
    "\n",
    "设置getter/setter方法较繁琐，python中提供property()函数，可实现在不破坏封装前提下，让开发者依旧使用 类对象.属性 操作类中属性\n",
    "\n",
    "property()基本使用格式：  \n",
    "属性名=property(fget=None,fset=None,fdel=None,doc=None)\n",
    "\n",
    "fget：指定获取该属性值的方法  \n",
    "fset：指定设置该属性值的方法  \n",
    "fdel：指定删除该属性值的方法  \n",
    "doc：文档字符串，说明函数作用"
   ]
  },
  {
   "cell_type": "code",
   "execution_count": 5,
   "id": "127850ea",
   "metadata": {},
   "outputs": [
    {
     "name": "stdout",
     "output_type": "stream",
     "text": [
      "Alice\n",
      "python\n",
      "xxx\n",
      "指明出处\n"
     ]
    }
   ],
   "source": [
    "class Clang:\n",
    "    def __init__(self,name):\n",
    "        self.__name=name  \n",
    "    def setname(self,name):\n",
    "        self.__name=name\n",
    "    def getname(self): \n",
    "        return self.__name #为避免调用出现死循环，name 属性必须设置为私有属性，即使用 __name（前面有 2 个下划线）\n",
    "    def delname(self):\n",
    "        self.__name='xxx'\n",
    "    name=property(getname,setname,delname,'指明出处') #为name属性配置property()函数\n",
    "clang=Clang('Alice')\n",
    "print(clang.name) # 调用getname()方法\n",
    "clang.name='python' #调用setname()方法\n",
    "print(clang.name) \n",
    "del clang.name #调用delname()方法\n",
    "print(clang.name)\n",
    "print(Clang.name.__doc__)"
   ]
  },
  {
   "cell_type": "code",
   "execution_count": 6,
   "id": "e2f83037",
   "metadata": {
    "scrolled": true
   },
   "outputs": [
    {
     "ename": "NameError",
     "evalue": "name 'getname' is not defined",
     "output_type": "error",
     "traceback": [
      "\u001b[0;31m---------------------------------------------------------------------------\u001b[0m",
      "\u001b[0;31mNameError\u001b[0m                                 Traceback (most recent call last)",
      "Input \u001b[0;32mIn [6]\u001b[0m, in \u001b[0;36m<cell line: 1>\u001b[0;34m()\u001b[0m\n\u001b[0;32m----> 1\u001b[0m name\u001b[38;5;241m=\u001b[39m\u001b[38;5;28mproperty\u001b[39m(\u001b[43mgetname\u001b[49m,setname) \u001b[38;5;66;03m#可读可写，不可删除\u001b[39;00m\n\u001b[1;32m      2\u001b[0m name\u001b[38;5;241m=\u001b[39m\u001b[38;5;28mproperty\u001b[39m(getname) \u001b[38;5;66;03m#可读，不可写，不可删除\u001b[39;00m\n\u001b[1;32m      3\u001b[0m name\u001b[38;5;241m=\u001b[39m\u001b[38;5;28mproperty\u001b[39m(getname,setname,delname)\n",
      "\u001b[0;31mNameError\u001b[0m: name 'getname' is not defined"
     ]
    }
   ],
   "source": [
    "name=property(getname,setname) #可读可写，不可删除\n",
    "name=property(getname) #可读，不可写，不可删除\n",
    "name=property(getname,setname,delname) #可读可写可删除，无说明文档"
   ]
  },
  {
   "cell_type": "markdown",
   "id": "86079c6d",
   "metadata": {},
   "source": [
    "## 12 装饰器: @property @.setter @.deleter\n",
    "\n",
    "### 12.1 @property\n",
    "\n",
    "作用：保护类的封装特性同时，让开发者可以使用 对象.属性 形式操作类属性\n",
    "\n",
    "通过@property装饰器，可直接通过方法名访问方法，不需要再方法名后加 ()"
   ]
  },
  {
   "cell_type": "code",
   "execution_count": null,
   "id": "764adb4a",
   "metadata": {},
   "outputs": [],
   "source": [
    "#语法格式\n",
    "@property\n",
    "def methodname(self):\n",
    "    block"
   ]
  },
  {
   "cell_type": "code",
   "execution_count": 14,
   "id": "61017b07",
   "metadata": {},
   "outputs": [
    {
     "name": "stdout",
     "output_type": "stream",
     "text": [
      "the area of a rectangular: 30\n"
     ]
    }
   ],
   "source": [
    "#定义一个矩形类，并定义用 @property 修饰的方法操作类中的 area 私有属性\n",
    "#使用 ＠property 修饰了 area() 方法，这样就使得该方法变成了 area 属性的 getter 方法\n",
    "class Rect:\n",
    "    def __init__(self,area):\n",
    "        self.__area=area\n",
    "    @property\n",
    "    def area(self):\n",
    "        return self.__area\n",
    "    \n",
    "rect=Rect(30)\n",
    "print('the area of a rectangular:',rect.area)"
   ]
  },
  {
   "cell_type": "code",
   "execution_count": 12,
   "id": "4aa703cf",
   "metadata": {
    "scrolled": true
   },
   "outputs": [
    {
     "ename": "AttributeError",
     "evalue": "can't set attribute",
     "output_type": "error",
     "traceback": [
      "\u001b[0;31m---------------------------------------------------------------------------\u001b[0m",
      "\u001b[0;31mAttributeError\u001b[0m                            Traceback (most recent call last)",
      "Input \u001b[0;32mIn [12]\u001b[0m, in \u001b[0;36m<cell line: 1>\u001b[0;34m()\u001b[0m\n\u001b[0;32m----> 1\u001b[0m rect\u001b[38;5;241m.\u001b[39marea\u001b[38;5;241m=\u001b[39m\u001b[38;5;241m90\u001b[39m\n\u001b[1;32m      2\u001b[0m \u001b[38;5;28mprint\u001b[39m(\u001b[38;5;124m'\u001b[39m\u001b[38;5;124marea after modified:\u001b[39m\u001b[38;5;124m'\u001b[39m,rect\u001b[38;5;241m.\u001b[39marea)\n",
      "\u001b[0;31mAttributeError\u001b[0m: can't set attribute"
     ]
    }
   ],
   "source": [
    "#area属性没有写方法，不可写\n",
    "rect.area=90\n",
    "print('area after modified:',rect.area)"
   ]
  },
  {
   "cell_type": "markdown",
   "id": "0a423696",
   "metadata": {},
   "source": [
    "## 12.2 @.setter\n",
    "\n",
    "实现修改area属性值的操作"
   ]
  },
  {
   "cell_type": "code",
   "execution_count": 8,
   "id": "34bc72ea",
   "metadata": {},
   "outputs": [
    {
     "ename": "NameError",
     "evalue": "name 'methodname' is not defined",
     "output_type": "error",
     "traceback": [
      "\u001b[0;31m---------------------------------------------------------------------------\u001b[0m",
      "\u001b[0;31mNameError\u001b[0m                                 Traceback (most recent call last)",
      "Input \u001b[0;32mIn [8]\u001b[0m, in \u001b[0;36m<cell line: 2>\u001b[0;34m()\u001b[0m\n\u001b[1;32m      1\u001b[0m \u001b[38;5;66;03m#语法格式\u001b[39;00m\n\u001b[0;32m----> 2\u001b[0m \u001b[38;5;129m@methodname\u001b[39m\u001b[38;5;241m.\u001b[39msetter\n\u001b[1;32m      3\u001b[0m \u001b[38;5;28;01mdef\u001b[39;00m \u001b[38;5;21mmethodname\u001b[39m(\u001b[38;5;28mself\u001b[39m,value):\n\u001b[1;32m      4\u001b[0m     block\n",
      "\u001b[0;31mNameError\u001b[0m: name 'methodname' is not defined"
     ]
    }
   ],
   "source": [
    "#语法格式\n",
    "@methodname.setter\n",
    "def methodname(self,value):\n",
    "    block"
   ]
  },
  {
   "cell_type": "code",
   "execution_count": 16,
   "id": "d8a6d2ad",
   "metadata": {},
   "outputs": [
    {
     "ename": "AttributeError",
     "evalue": "can't set attribute",
     "output_type": "error",
     "traceback": [
      "\u001b[0;31m---------------------------------------------------------------------------\u001b[0m",
      "\u001b[0;31mAttributeError\u001b[0m                            Traceback (most recent call last)",
      "Input \u001b[0;32mIn [16]\u001b[0m, in \u001b[0;36m<cell line: 10>\u001b[0;34m()\u001b[0m\n\u001b[1;32m      7\u001b[0m     \u001b[38;5;129m@area\u001b[39m\u001b[38;5;241m.\u001b[39msetter\n\u001b[1;32m      8\u001b[0m     \u001b[38;5;28;01mdef\u001b[39;00m \u001b[38;5;21marea\u001b[39m(\u001b[38;5;28mself\u001b[39m,value):\n\u001b[1;32m      9\u001b[0m         \u001b[38;5;28mself\u001b[39m\u001b[38;5;241m.\u001b[39m__area\u001b[38;5;241m=\u001b[39mvalue\n\u001b[0;32m---> 10\u001b[0m rect\u001b[38;5;241m.\u001b[39marea\u001b[38;5;241m=\u001b[39m\u001b[38;5;241m90\u001b[39m\n\u001b[1;32m     11\u001b[0m \u001b[38;5;28mprint\u001b[39m(\u001b[38;5;124m'\u001b[39m\u001b[38;5;124marea after modified:\u001b[39m\u001b[38;5;124m'\u001b[39m,rect\u001b[38;5;241m.\u001b[39marea)\n",
      "\u001b[0;31mAttributeError\u001b[0m: can't set attribute"
     ]
    }
   ],
   "source": [
    "\n",
    "class Rect:\n",
    "    def __init__(self,area):\n",
    "        self.__area=area\n",
    "    @property\n",
    "    def area(self):\n",
    "        return self.__area\n",
    "    @area.setter\n",
    "    def area(self,value):\n",
    "        self.__area=value\n",
    "rect.area=90\n",
    "print('area after modified:',rect.area)\n"
   ]
  },
  {
   "cell_type": "markdown",
   "id": "d92e133a",
   "metadata": {},
   "source": [
    "## 12.2 @.deleter\n",
    "\n",
    "实现删除area属性值的操作"
   ]
  },
  {
   "cell_type": "markdown",
   "id": "c26769b4",
   "metadata": {},
   "source": [
    "## 13 封装机制及实现方法"
   ]
  },
  {
   "cell_type": "markdown",
   "id": "97130b29",
   "metadata": {},
   "source": [
    "http://c.biancheng.net/view/2287.html"
   ]
  },
  {
   "cell_type": "markdown",
   "id": "03bf03a4",
   "metadata": {},
   "source": [
    "1.python类中变量和函数，分为共有public和私有private两种  \n",
    "1)public: 共有属性类变量、类函数，在类的外部、内部、子类中，均可正常访问  \n",
    "2)private: 私有属性类变量和类函数，只能在本类内部使用，类外部及子类均无法使用\n",
    "\n",
    "2.python未提供public、private修饰符，实现访问控制权限的方式为:    \n",
    "1)默认情况下，python类中变量和方法均是public，名称前面无下划线 _   \n",
    "2)类中变量或函数名称以双下划线 __ 开头，则该变量或函数属性为private\n",
    "\n",
    "3.单下划线 _ 开头的类属性和方法，虽然也能通过类对象正常访问，但通常约定为私有属性和私有方法\n",
    "\n",
    "4.双下划线开头结尾的类方法/属性，用于python内部调用，如类的构造函数 __init__(self)，自己定义类属性或者类方法时，不要使用这种格式"
   ]
  },
  {
   "cell_type": "code",
   "execution_count": 1,
   "id": "b4924c2a",
   "metadata": {},
   "outputs": [
    {
     "name": "stdout",
     "output_type": "stream",
     "text": [
      "Alice\n",
      "http://\n"
     ]
    }
   ],
   "source": [
    "#python封装机制\n",
    "class Clang:\n",
    "    def setname(self,name):\n",
    "        if len(name)<3:\n",
    "            raise ValueErroe('the length must be lager than 3')\n",
    "        self.__name=name\n",
    "        \n",
    "    def getname(self):\n",
    "        return self.__name\n",
    "    \n",
    "    name=property(getname,setname)\n",
    "    \n",
    "    def setadd(self,add):\n",
    "        if add.startswith('http://'):\n",
    "            self.__add=add\n",
    "        else:\n",
    "            raise ValueError('the address must be start with http://')\n",
    "    \n",
    "    def getadd(self):\n",
    "        return self.__add\n",
    "    \n",
    "    add=property(getadd,setadd)\n",
    "    \n",
    "    def __display(self):\n",
    "        print(self.__name,self.__add)\n",
    "        \n",
    "clang= Clang()\n",
    "clang.name=\"Alice\"\n",
    "clang.add=\"http://\"\n",
    "print(clang.name)\n",
    "print(clang.add)"
   ]
  },
  {
   "cell_type": "code",
   "execution_count": 2,
   "id": "457c6518",
   "metadata": {},
   "outputs": [
    {
     "ename": "AttributeError",
     "evalue": "'Clang' object has no attribute '__display'",
     "output_type": "error",
     "traceback": [
      "\u001b[0;31m---------------------------------------------------------------------------\u001b[0m",
      "\u001b[0;31mAttributeError\u001b[0m                            Traceback (most recent call last)",
      "Input \u001b[0;32mIn [2]\u001b[0m, in \u001b[0;36m<cell line: 1>\u001b[0;34m()\u001b[0m\n\u001b[0;32m----> 1\u001b[0m \u001b[43mclang\u001b[49m\u001b[38;5;241;43m.\u001b[39;49m\u001b[43m__display\u001b[49m()\n",
      "\u001b[0;31mAttributeError\u001b[0m: 'Clang' object has no attribute '__display'"
     ]
    }
   ],
   "source": [
    "clang.__display()"
   ]
  },
  {
   "cell_type": "markdown",
   "id": "ae934a91",
   "metadata": {},
   "source": [
    "## 14 Python封装底层实现原理"
   ]
  }
 ],
 "metadata": {
  "kernelspec": {
   "display_name": "Python 3 (ipykernel)",
   "language": "python",
   "name": "python3"
  },
  "language_info": {
   "codemirror_mode": {
    "name": "ipython",
    "version": 3
   },
   "file_extension": ".py",
   "mimetype": "text/x-python",
   "name": "python",
   "nbconvert_exporter": "python",
   "pygments_lexer": "ipython3",
   "version": "3.9.12"
  }
 },
 "nbformat": 4,
 "nbformat_minor": 5
}
